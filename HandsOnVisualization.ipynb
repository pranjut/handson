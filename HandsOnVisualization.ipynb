{
 "cells": [
  {
   "cell_type": "code",
   "execution_count": 25,
   "metadata": {},
   "outputs": [],
   "source": [
    "from datetime import datetime\n",
    "import tensorflow as tf\n",
    "import numpy as np\n",
    "from sklearn.datasets import fetch_california_housing"
   ]
  },
  {
   "cell_type": "code",
   "execution_count": 26,
   "metadata": {},
   "outputs": [
    {
     "data": {
      "text/plain": [
       "'tf_logs/run-20181205025838'"
      ]
     },
     "execution_count": 26,
     "metadata": {},
     "output_type": "execute_result"
    }
   ],
   "source": [
    "now = datetime.utcnow().strftime(\"%Y%m%d%H%M%S\")\n",
    "root_logdir=\"tf_logs\"\n",
    "logdir=\"{}/run-{}\".format(root_logdir, now)\n",
    "logdir"
   ]
  },
  {
   "cell_type": "markdown",
   "metadata": {},
   "source": [
    "### Supported code from the intro"
   ]
  },
  {
   "cell_type": "code",
   "execution_count": 27,
   "metadata": {},
   "outputs": [],
   "source": [
    "housing = fetch_california_housing()\n",
    "m, n = housing.data.shape\n",
    "housing_data_plus_bias = np.c_[np.ones((m, 1)), housing.data]\n",
    "\n",
    "n_epochs=1000\n",
    "learning_rate=0.01\n",
    "\n",
    "x=tf.constant(housing_data_plus_bias, dtype=tf.float32, name=\"X\")\n",
    "y=tf.constant(housing.target.reshape(-1, 1), dtype=tf.float32, name=\"Y\")\n",
    "theta=tf.Variable(tf.random_uniform([n+1, 1], -1, 1), name=\"theta\")\n",
    "y_pred=tf.matmul(x,theta, name=\"predictions\")\n",
    "error=y_pred-y\n",
    "\n",
    "mse=tf.reduce_mean(tf.square(error), name=\"mse\")\n",
    "\n",
    "def fetch_batch(epoch, index, size):\n",
    "    data = housing_data_plus_bias.data\n",
    "    labels = housing.target\n",
    "    data_batch=[housing_data_plus_bias[i] for i in range(index-1, (index + size) -1)]\n",
    "    label_batch=[[housing.target[i]] for i in range(index-1, (index + size) -1)]\n",
    "    return data_batch, label_batch\n",
    "\n",
    "batch_size = 100\n",
    "n_batches= int(np.ceil(m/batch_size))\n",
    "\n",
    "optimizer = tf.train.GradientDescentOptimizer(learning_rate=learning_rate)\n",
    "training_ops = optimizer.minimize(mse)\n",
    "\n",
    "x1 = tf.placeholder(tf.float32, shape=(None, n+1), name=\"x\")\n",
    "y1 = tf.placeholder(tf.float32, shape=(None, 1), name = \"y\")\n",
    "\n",
    "init=tf.global_variables_initializer()"
   ]
  },
  {
   "cell_type": "code",
   "execution_count": 28,
   "metadata": {},
   "outputs": [],
   "source": [
    "mse_summary = tf.summary.scalar(\"MSE\", mse)\n",
    "filewriter = tf.summary.FileWriter(logdir, tf.get_default_graph())"
   ]
  },
  {
   "cell_type": "code",
   "execution_count": 29,
   "metadata": {},
   "outputs": [],
   "source": [
    "with tf.Session() as sess:\n",
    "    sess.run(init)\n",
    "    for epoch in range(n_epochs):\n",
    "        for index in range(n_batches):\n",
    "            x_batch, y_batch = fetch_batch(epoch, index, batch_size)\n",
    "            if index % 10 ==0:\n",
    "                summary_str = mse_summary.eval(feed_dict={x1: x_batch, y1: y_batch})\n",
    "                step=epoch*n_batches + index\n",
    "                filewriter.add_summary(summary_str, step)\n",
    "            sess.run(training_ops, feed_dict={x1: x_batch, y1: y_batch})\n",
    "    best_theta = theta.eval()"
   ]
  },
  {
   "cell_type": "code",
   "execution_count": 30,
   "metadata": {},
   "outputs": [],
   "source": [
    "filewriter.close()"
   ]
  },
  {
   "cell_type": "code",
   "execution_count": null,
   "metadata": {},
   "outputs": [],
   "source": []
  }
 ],
 "metadata": {
  "kernelspec": {
   "display_name": "Python 3",
   "language": "python",
   "name": "python3"
  },
  "language_info": {
   "codemirror_mode": {
    "name": "ipython",
    "version": 3
   },
   "file_extension": ".py",
   "mimetype": "text/x-python",
   "name": "python",
   "nbconvert_exporter": "python",
   "pygments_lexer": "ipython3",
   "version": "3.6.5"
  }
 },
 "nbformat": 4,
 "nbformat_minor": 2
}
