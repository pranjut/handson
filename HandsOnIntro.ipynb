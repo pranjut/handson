{
 "cells": [
  {
   "cell_type": "code",
   "execution_count": 1,
   "metadata": {},
   "outputs": [
    {
     "name": "stderr",
     "output_type": "stream",
     "text": [
      "/home/pranjut/anaconda3/lib/python3.6/site-packages/h5py/__init__.py:36: FutureWarning: Conversion of the second argument of issubdtype from `float` to `np.floating` is deprecated. In future, it will be treated as `np.float64 == np.dtype(float).type`.\n",
      "  from ._conv import register_converters as _register_converters\n"
     ]
    }
   ],
   "source": [
    "import tensorflow as tf\n",
    "import numpy as np\n",
    "from sklearn.datasets import fetch_california_housing"
   ]
  },
  {
   "cell_type": "code",
   "execution_count": 2,
   "metadata": {},
   "outputs": [],
   "source": [
    "housing = fetch_california_housing()\n",
    "m, n = housing.data.shape\n",
    "housing_data_plus_bias = np.c_[np.ones((m, 1)), housing.data]\n",
    "# print(housing.data)\n",
    "# np.c_[np.ones((m, 1)), housing.data]"
   ]
  },
  {
   "cell_type": "code",
   "execution_count": 3,
   "metadata": {},
   "outputs": [],
   "source": [
    "X = tf.constant(housing_data_plus_bias, dtype=tf.float32, name = \"X\")\n",
    "Y = tf.constant(housing_data_plus_bias, dtype=tf.float32, name = \"Y\")\n",
    "XT = tf.transpose(X)\n",
    "theta = tf.matmul(tf.matmul(tf.matrix_inverse(tf.matmul(XT, X)), XT), Y)\n"
   ]
  },
  {
   "cell_type": "code",
   "execution_count": 4,
   "metadata": {},
   "outputs": [],
   "source": [
    "with tf.Session() as sess:\n",
    "    theta_eval = theta.eval()\n",
    "    \n",
    "# theta_eval"
   ]
  },
  {
   "cell_type": "markdown",
   "metadata": {},
   "source": [
    "## Gradient Descent"
   ]
  },
  {
   "cell_type": "code",
   "execution_count": 5,
   "metadata": {},
   "outputs": [],
   "source": [
    "n_epochs=1000\n",
    "learning_rate=0.01"
   ]
  },
  {
   "cell_type": "code",
   "execution_count": 6,
   "metadata": {},
   "outputs": [],
   "source": [
    "x=tf.constant(housing_data_plus_bias, dtype=tf.float32, name=\"X\")\n",
    "y=tf.constant(housing.target.reshape(-1, 1), dtype=tf.float32, name=\"Y\")\n",
    "theta=tf.Variable(tf.random_uniform([n+1, 1], -1, 1), name=\"theta\")\n",
    "y_pred=tf.matmul(x,theta, name=\"predictions\")\n",
    "error=y_pred-y\n",
    "\n",
    "mse=tf.reduce_mean(tf.square(error), name=\"mse\")\n",
    "\n",
    "gradients=tf.gradients(mse, [theta])[0] #2/m * tf.matmul(tf.transpose(x), error)\n",
    "training_op=tf.assign(theta, theta - learning_rate * gradients)"
   ]
  },
  {
   "cell_type": "code",
   "execution_count": 7,
   "metadata": {},
   "outputs": [],
   "source": [
    "init=tf.global_variables_initializer()"
   ]
  },
  {
   "cell_type": "code",
   "execution_count": 8,
   "metadata": {},
   "outputs": [
    {
     "name": "stdout",
     "output_type": "stream",
     "text": [
      "Epoch 0 MSE= <bound method Tensor.eval of <tf.Tensor 'mse:0' shape=() dtype=float32>>\n",
      "Epoch 100 MSE= <bound method Tensor.eval of <tf.Tensor 'mse:0' shape=() dtype=float32>>\n",
      "Epoch 200 MSE= <bound method Tensor.eval of <tf.Tensor 'mse:0' shape=() dtype=float32>>\n",
      "Epoch 300 MSE= <bound method Tensor.eval of <tf.Tensor 'mse:0' shape=() dtype=float32>>\n",
      "Epoch 400 MSE= <bound method Tensor.eval of <tf.Tensor 'mse:0' shape=() dtype=float32>>\n",
      "Epoch 500 MSE= <bound method Tensor.eval of <tf.Tensor 'mse:0' shape=() dtype=float32>>\n",
      "Epoch 600 MSE= <bound method Tensor.eval of <tf.Tensor 'mse:0' shape=() dtype=float32>>\n",
      "Epoch 700 MSE= <bound method Tensor.eval of <tf.Tensor 'mse:0' shape=() dtype=float32>>\n",
      "Epoch 800 MSE= <bound method Tensor.eval of <tf.Tensor 'mse:0' shape=() dtype=float32>>\n",
      "Epoch 900 MSE= <bound method Tensor.eval of <tf.Tensor 'mse:0' shape=() dtype=float32>>\n"
     ]
    }
   ],
   "source": [
    "with tf.Session() as sess:\n",
    "    sess.run(init)\n",
    "    for epoch in range(n_epochs):\n",
    "        if epoch % 100 == 0:\n",
    "            print(\"Epoch\", epoch, \"MSE=\", mse.eval)\n",
    "        sess.run(training_op)\n",
    "    \n",
    "    best_theta=theta.eval()"
   ]
  },
  {
   "cell_type": "markdown",
   "metadata": {},
   "source": [
    "## Optimizers"
   ]
  },
  {
   "cell_type": "markdown",
   "metadata": {},
   "source": [
    "### Gradient Optimizer "
   ]
  },
  {
   "cell_type": "code",
   "execution_count": 9,
   "metadata": {},
   "outputs": [],
   "source": [
    "optimizer = tf.train.GradientDescentOptimizer(learning_rate=learning_rate)\n",
    "training_ops = optimizer.minimize(mse)"
   ]
  },
  {
   "cell_type": "markdown",
   "metadata": {},
   "source": [
    "### Momentum Optimizer"
   ]
  },
  {
   "cell_type": "code",
   "execution_count": 10,
   "metadata": {},
   "outputs": [],
   "source": [
    "# optimizer = tf.train.MomentumOptimizer(learning_rate=learning_rate, momentum=0.9)\n",
    "# training_ops = optimizer.minimize(mse)"
   ]
  },
  {
   "cell_type": "markdown",
   "metadata": {},
   "source": [
    "### Feeding data"
   ]
  },
  {
   "cell_type": "code",
   "execution_count": 11,
   "metadata": {},
   "outputs": [
    {
     "name": "stdout",
     "output_type": "stream",
     "text": [
      "[[6. 7. 8.]]\n",
      "[[ 6.  7.  8.]\n",
      " [ 9. 10. 11.]]\n"
     ]
    }
   ],
   "source": [
    "A = tf.placeholder(tf.float32, shape = (None, 3))\n",
    "B = A + 5\n",
    "with tf.Session() as sess:\n",
    "    B_val_1 = B.eval(feed_dict={A: [[1,2,3]]})\n",
    "    B_val_2 = B.eval(feed_dict = {A: [[1,2,3],[4,5,6]]})\n",
    "print(B_val_1)\n",
    "print(B_val_2)"
   ]
  },
  {
   "cell_type": "markdown",
   "metadata": {},
   "source": [
    "#### Feeding data with placeholder"
   ]
  },
  {
   "cell_type": "markdown",
   "metadata": {},
   "source": [
    "To implement Mini-batch Gradient Descent, we only need to tweak the existing code slightly. First change\n",
    "the definition of X and y in the construction phase to make them placeholder nodes:"
   ]
  },
  {
   "cell_type": "code",
   "execution_count": 12,
   "metadata": {},
   "outputs": [],
   "source": [
    "x = tf.placeholder(tf.float32, shape=(None, n+1), name=\"x\")\n",
    "y = tf.placeholder(tf.float32, shape=(None, 1), name = \"y\")\n"
   ]
  },
  {
   "cell_type": "markdown",
   "metadata": {},
   "source": [
    "Then define the batch size and compute the total number of batches:"
   ]
  },
  {
   "cell_type": "code",
   "execution_count": 13,
   "metadata": {},
   "outputs": [],
   "source": [
    "batch_size = 100\n",
    "n_batches= int(np.ceil(m/batch_size))"
   ]
  },
  {
   "cell_type": "code",
   "execution_count": 14,
   "metadata": {},
   "outputs": [],
   "source": [
    "def fetch_batch(epoch, index, size):\n",
    "    data = housing_data_plus_bias.data\n",
    "    labels = housing.target\n",
    "    data_batch=[housing_data_plus_bias[i] for i in range(index-1, (index + size) -1)]\n",
    "    label_batch=[[housing.target[i]] for i in range(index-1, (index + size) -1)]\n",
    "    return data_batch, label_batch\n",
    "# x, y = fetch_batch(1, 0, 10)\n",
    "# print(x)\n",
    "# X.shape"
   ]
  },
  {
   "cell_type": "code",
   "execution_count": 15,
   "metadata": {},
   "outputs": [],
   "source": [
    "# saver = tf.train.Saver()\n",
    "\n",
    "with tf.Session() as sess:\n",
    "#     saver.restore(sess, \"/tmp/handson.ckpt\")\n",
    "    sess.run(init)\n",
    "    for epoch in range(n_epochs):\n",
    "        for index in range(n_batches):\n",
    "            x_batch, y_batch = fetch_batch(epoch, index, batch_size)\n",
    "#             saver.save(sess, \"/tmp/handson.ckpt\")\n",
    "            sess.run(training_ops, feed_dict={x: x_batch, y: y_batch})\n",
    "    best_theta = theta.eval()"
   ]
  },
  {
   "cell_type": "code",
   "execution_count": null,
   "metadata": {},
   "outputs": [],
   "source": []
  },
  {
   "cell_type": "code",
   "execution_count": null,
   "metadata": {},
   "outputs": [],
   "source": []
  },
  {
   "cell_type": "code",
   "execution_count": null,
   "metadata": {},
   "outputs": [],
   "source": []
  }
 ],
 "metadata": {
  "kernelspec": {
   "display_name": "Python 3",
   "language": "python",
   "name": "python3"
  },
  "language_info": {
   "codemirror_mode": {
    "name": "ipython",
    "version": 3
   },
   "file_extension": ".py",
   "mimetype": "text/x-python",
   "name": "python",
   "nbconvert_exporter": "python",
   "pygments_lexer": "ipython3",
   "version": "3.6.5"
  }
 },
 "nbformat": 4,
 "nbformat_minor": 2
}
